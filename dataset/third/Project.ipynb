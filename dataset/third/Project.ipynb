{
  "nbformat": 4,
  "nbformat_minor": 0,
  "metadata": {
    "colab": {
      "name": "Compiler design.ipynb",
      "provenance": [],
      "collapsed_sections": []
    },
    "kernelspec": {
      "name": "python3",
      "display_name": "Python 3"
    },
    "language_info": {
      "name": "python"
    }
  },
  "cells": [
    {
      "cell_type": "code",
      "metadata": {
        "colab": {
          "base_uri": "https://localhost:8080/"
        },
        "id": "ZwyRY7NRqaAS",
        "outputId": "ec407254-c722-45a2-c2c3-6ea8af59f21f"
      },
      "source": [
        "import nltk\n",
        "nltk.download('punkt')\n",
        "nltk.download('stopwords')"
      ],
      "execution_count": 1,
      "outputs": [
        {
          "output_type": "stream",
          "name": "stdout",
          "text": [
            "[nltk_data] Downloading package punkt to /root/nltk_data...\n",
            "[nltk_data]   Unzipping tokenizers/punkt.zip.\n",
            "[nltk_data] Downloading package stopwords to /root/nltk_data...\n",
            "[nltk_data]   Unzipping corpora/stopwords.zip.\n"
          ]
        },
        {
          "output_type": "execute_result",
          "data": {
            "text/plain": [
              "True"
            ]
          },
          "metadata": {},
          "execution_count": 1
        }
      ]
    },
    {
      "cell_type": "markdown",
      "source": [
        "**TEXT** **PREPOCESSING**"
      ],
      "metadata": {
        "id": "pYZSGs-vO2oV"
      }
    },
    {
      "cell_type": "code",
      "metadata": {
        "colab": {
          "base_uri": "https://localhost:8080/"
        },
        "id": "DcTCxPu1reCQ",
        "outputId": "c79dffca-c9ba-414d-bc91-5a75c6607789"
      },
      "source": [
        "DOCUMENT=\"\"\n",
        "for i in range(1,4):\n",
        "  file_name=f\"{i}.txt\"\n",
        "  DOCUMENT+=(open(file_name).read())\n",
        "print(DOCUMENT)"
      ],
      "execution_count": 3,
      "outputs": [
        {
          "output_type": "stream",
          "name": "stdout",
          "text": [
            " A visible improvement in Delhi's air quality was recorded on Sunday although it was in the ''very poor'' category while the city's Environment Minister Gopal Rai said his government will submit a lockdown proposal to the Supreme Court on Monday to reduce pollution further.\n",
            "The national capital recorded a 24-hour average air quality index (AQI) of 330 on Sunday as against 437 the previous day as emissions from farm fires in Haryana and Punjab dropped significantly. The AQI was and 471 on Friday, the worst this season so far.\n",
            "\n",
            "The air quality index of neighbouring Ghaziabad, Gurgaon, Noida, Faridabad, Greater Noida was recorded at 331, 287, 321, 298 and 310, respectively.\n",
            "\n",
            "An AQI between zero and 50 is considered ''good'', 51 and 100 ''satisfactory'', 101 and 200 ''moderate'', 201 and 300 ''poor'', 301 and 400 ''very poor'', and 401 and 500 ''severe''.\n",
            "\n",
            "The India Meteorological Department said visibility levels ranged from 1,500 to 2,200 metres at the Indira Gandhi International Airport and from 1,000 to 1,500 metres at the Safdarjung Airport.\n",
            "\n",
            "Delhi Environment Minister Gopal Rai said the city government will on Monday submit to the Supreme Court a proposal on clamping a lockdown and its modalities.\n",
            "\n",
            "The Supreme Court had on Saturday termed the rise in pollution levels an \"emergency situation\" and suggested clamping a lockdown in the national capital.\n",
            "\n",
            "The Delhi government has already announced the closure of physical classes in schools, colleges and other educational institutions, except those where exams are being conducted, for a week from Monday.President Xi Jinping said on Saturday that China can no longer rely on its previous economic development model of depending on global exports and must build self-controlled, safe and reliable domestic production and supply system to ensure industrial and national security.\n",
            "The just-concluded plenary session of the ruling Communist Party of China (CPC), headed by Xi, adopted his proposals to make the 14th Five-Year Plan (2021-2025).\n",
            "While the 14th five-year plan envisages a massive overhaul of the country's domestic market to boost consumption in order to reduce China's reliance on shrinking exports markets, the Vision 2035 visualises a long-term plan, reflecting the development vision of Xi. Politically, Xi's Vision 2035 plan has sparked speculation that he could continue in power for the next 15 years.\n",
            "Xi, 67, has emerged as the CPC's most powerful leader after its founder Mao Zedong, holding the posts of CPC General Secretary, head of the military besides the presidency with prospects of a life-long tenure.\n",
            "A constitutional amendment in 2018 removed the two 5year term limit for the president, which would enable Xi to continue in power for life. His second term as the president is due to end in 2022.Vitamin D nutrient is in the news more than ever for its greater implications during the time of Coronavirus pandemic. Health experts have raised concerns over the growing cases of vitamin D deficiency in general population as people are staying at home and are not able to obtain the 'sunshine vitamin' from natural sunlight. In fact, a new study discovered over 80% COVID-19 patients suffering from vitamin D deficiency. Vitamin D is known to aid many bodily functions and its insufficiency may lead to weak bones, heart-related ailments, low immunity and even respiratory problems.\n",
            "The study that was published in 'The Journal of Clinical Endocrinology & Metabolism', found 80 percent of 216 COVID-19 patients admitted in a hospital in Spain to be vitamin D-deficient. The researchers also noticed that men had lower vitamin D levels than women.\n",
            "\"Vitamin D-deficient COVID-19 patients had a greater prevalence of hypertension and cardiovascular diseases, raised serum ferritin and troponin levels, as well as a longer length of hospital stay. We did not find any relationship between vitamin D concentrations or vitamin deficiency and the severity of the disease,\" wrote co-author Jose L. Hernandez, Ph.D., of the University of Cantabria in Santander, Spain.\n",
            "Another recent study, published in 'Plos One' journal, had claimed that vitamin D sufficiency may lessen the oxygen requirement in COVID-19 patients and fasten the treatment process. \n",
            "Vitamin D is also known as 'sunshine vitamin'. \n",
            "Apart from exposing yourself to sunlight regularly to obtain the vitamin naturally, a diet rich in foods with high vitamin D content may also help.\n"
          ]
        }
      ]
    },
    {
      "cell_type": "code",
      "metadata": {
        "colab": {
          "base_uri": "https://localhost:8080/"
        },
        "id": "2uFzG9ksy_uP",
        "outputId": "aa202f0c-18cb-468e-ae71-b9e7cf483e5f"
      },
      "source": [
        "import re\n",
        "DOCUMENT = re.sub(r'\\n|\\r', ' ', DOCUMENT)\n",
        "DOCUMENT = DOCUMENT.strip()\n",
        "\n",
        "print(DOCUMENT)"
      ],
      "execution_count": 4,
      "outputs": [
        {
          "output_type": "stream",
          "name": "stdout",
          "text": [
            "A visible improvement in Delhi's air quality was recorded on Sunday although it was in the ''very poor'' category while the city's Environment Minister Gopal Rai said his government will submit a lockdown proposal to the Supreme Court on Monday to reduce pollution further. The national capital recorded a 24-hour average air quality index (AQI) of 330 on Sunday as against 437 the previous day as emissions from farm fires in Haryana and Punjab dropped significantly. The AQI was and 471 on Friday, the worst this season so far.  The air quality index of neighbouring Ghaziabad, Gurgaon, Noida, Faridabad, Greater Noida was recorded at 331, 287, 321, 298 and 310, respectively.  An AQI between zero and 50 is considered ''good'', 51 and 100 ''satisfactory'', 101 and 200 ''moderate'', 201 and 300 ''poor'', 301 and 400 ''very poor'', and 401 and 500 ''severe''.  The India Meteorological Department said visibility levels ranged from 1,500 to 2,200 metres at the Indira Gandhi International Airport and from 1,000 to 1,500 metres at the Safdarjung Airport.  Delhi Environment Minister Gopal Rai said the city government will on Monday submit to the Supreme Court a proposal on clamping a lockdown and its modalities.  The Supreme Court had on Saturday termed the rise in pollution levels an \"emergency situation\" and suggested clamping a lockdown in the national capital.  The Delhi government has already announced the closure of physical classes in schools, colleges and other educational institutions, except those where exams are being conducted, for a week from Monday.President Xi Jinping said on Saturday that China can no longer rely on its previous economic development model of depending on global exports and must build self-controlled, safe and reliable domestic production and supply system to ensure industrial and national security. The just-concluded plenary session of the ruling Communist Party of China (CPC), headed by Xi, adopted his proposals to make the 14th Five-Year Plan (2021-2025). While the 14th five-year plan envisages a massive overhaul of the country's domestic market to boost consumption in order to reduce China's reliance on shrinking exports markets, the Vision 2035 visualises a long-term plan, reflecting the development vision of Xi. Politically, Xi's Vision 2035 plan has sparked speculation that he could continue in power for the next 15 years. Xi, 67, has emerged as the CPC's most powerful leader after its founder Mao Zedong, holding the posts of CPC General Secretary, head of the military besides the presidency with prospects of a life-long tenure. A constitutional amendment in 2018 removed the two 5year term limit for the president, which would enable Xi to continue in power for life. His second term as the president is due to end in 2022.Vitamin D nutrient is in the news more than ever for its greater implications during the time of Coronavirus pandemic. Health experts have raised concerns over the growing cases of vitamin D deficiency in general population as people are staying at home and are not able to obtain the 'sunshine vitamin' from natural sunlight. In fact, a new study discovered over 80% COVID-19 patients suffering from vitamin D deficiency. Vitamin D is known to aid many bodily functions and its insufficiency may lead to weak bones, heart-related ailments, low immunity and even respiratory problems. The study that was published in 'The Journal of Clinical Endocrinology & Metabolism', found 80 percent of 216 COVID-19 patients admitted in a hospital in Spain to be vitamin D-deficient. The researchers also noticed that men had lower vitamin D levels than women. \"Vitamin D-deficient COVID-19 patients had a greater prevalence of hypertension and cardiovascular diseases, raised serum ferritin and troponin levels, as well as a longer length of hospital stay. We did not find any relationship between vitamin D concentrations or vitamin deficiency and the severity of the disease,\" wrote co-author Jose L. Hernandez, Ph.D., of the University of Cantabria in Santander, Spain. Another recent study, published in 'Plos One' journal, had claimed that vitamin D sufficiency may lessen the oxygen requirement in COVID-19 patients and fasten the treatment process.  Vitamin D is also known as 'sunshine vitamin'.  Apart from exposing yourself to sunlight regularly to obtain the vitamin naturally, a diet rich in foods with high vitamin D content may also help.\n"
          ]
        }
      ]
    },
    {
      "cell_type": "markdown",
      "source": [
        "**SENTENCING**"
      ],
      "metadata": {
        "id": "hu4oCQBAPA5u"
      }
    },
    {
      "cell_type": "code",
      "source": [
        ""
      ],
      "metadata": {
        "id": "HAylGvXkWWGs"
      },
      "execution_count": null,
      "outputs": []
    },
    {
      "cell_type": "code",
      "metadata": {
        "colab": {
          "base_uri": "https://localhost:8080/"
        },
        "id": "depOz_lMz6Ta",
        "outputId": "a5980aa1-fb97-4667-d05a-812927c34ee0"
      },
      "source": [
        "sentences=nltk.sent_tokenize(DOCUMENT)\n",
        "print(sentences)\n",
        "len(sentences)"
      ],
      "execution_count": 6,
      "outputs": [
        {
          "output_type": "stream",
          "name": "stdout",
          "text": [
            "[\"A visible improvement in Delhi's air quality was recorded on Sunday although it was in the ''very poor'' category while the city's Environment Minister Gopal Rai said his government will submit a lockdown proposal to the Supreme Court on Monday to reduce pollution further.\", 'The national capital recorded a 24-hour average air quality index (AQI) of 330 on Sunday as against 437 the previous day as emissions from farm fires in Haryana and Punjab dropped significantly.', 'The AQI was and 471 on Friday, the worst this season so far.', 'The air quality index of neighbouring Ghaziabad, Gurgaon, Noida, Faridabad, Greater Noida was recorded at 331, 287, 321, 298 and 310, respectively.', \"An AQI between zero and 50 is considered ''good'', 51 and 100 ''satisfactory'', 101 and 200 ''moderate'', 201 and 300 ''poor'', 301 and 400 ''very poor'', and 401 and 500 ''severe''.\", 'The India Meteorological Department said visibility levels ranged from 1,500 to 2,200 metres at the Indira Gandhi International Airport and from 1,000 to 1,500 metres at the Safdarjung Airport.', 'Delhi Environment Minister Gopal Rai said the city government will on Monday submit to the Supreme Court a proposal on clamping a lockdown and its modalities.', 'The Supreme Court had on Saturday termed the rise in pollution levels an \"emergency situation\" and suggested clamping a lockdown in the national capital.', 'The Delhi government has already announced the closure of physical classes in schools, colleges and other educational institutions, except those where exams are being conducted, for a week from Monday.President Xi Jinping said on Saturday that China can no longer rely on its previous economic development model of depending on global exports and must build self-controlled, safe and reliable domestic production and supply system to ensure industrial and national security.', 'The just-concluded plenary session of the ruling Communist Party of China (CPC), headed by Xi, adopted his proposals to make the 14th Five-Year Plan (2021-2025).', \"While the 14th five-year plan envisages a massive overhaul of the country's domestic market to boost consumption in order to reduce China's reliance on shrinking exports markets, the Vision 2035 visualises a long-term plan, reflecting the development vision of Xi.\", \"Politically, Xi's Vision 2035 plan has sparked speculation that he could continue in power for the next 15 years.\", \"Xi, 67, has emerged as the CPC's most powerful leader after its founder Mao Zedong, holding the posts of CPC General Secretary, head of the military besides the presidency with prospects of a life-long tenure.\", 'A constitutional amendment in 2018 removed the two 5year term limit for the president, which would enable Xi to continue in power for life.', 'His second term as the president is due to end in 2022.Vitamin D nutrient is in the news more than ever for its greater implications during the time of Coronavirus pandemic.', \"Health experts have raised concerns over the growing cases of vitamin D deficiency in general population as people are staying at home and are not able to obtain the 'sunshine vitamin' from natural sunlight.\", 'In fact, a new study discovered over 80% COVID-19 patients suffering from vitamin D deficiency.', 'Vitamin D is known to aid many bodily functions and its insufficiency may lead to weak bones, heart-related ailments, low immunity and even respiratory problems.', \"The study that was published in 'The Journal of Clinical Endocrinology & Metabolism', found 80 percent of 216 COVID-19 patients admitted in a hospital in Spain to be vitamin D-deficient.\", 'The researchers also noticed that men had lower vitamin D levels than women.', '\"Vitamin D-deficient COVID-19 patients had a greater prevalence of hypertension and cardiovascular diseases, raised serum ferritin and troponin levels, as well as a longer length of hospital stay.', 'We did not find any relationship between vitamin D concentrations or vitamin deficiency and the severity of the disease,\" wrote co-author Jose L. Hernandez, Ph.D., of the University of Cantabria in Santander, Spain.', \"Another recent study, published in 'Plos One' journal, had claimed that vitamin D sufficiency may lessen the oxygen requirement in COVID-19 patients and fasten the treatment process.\", \"Vitamin D is also known as 'sunshine vitamin'.\", 'Apart from exposing yourself to sunlight regularly to obtain the vitamin naturally, a diet rich in foods with high vitamin D content may also help.']\n"
          ]
        },
        {
          "output_type": "execute_result",
          "data": {
            "text/plain": [
              "25"
            ]
          },
          "metadata": {},
          "execution_count": 6
        }
      ]
    },
    {
      "cell_type": "code",
      "metadata": {
        "colab": {
          "base_uri": "https://localhost:8080/"
        },
        "id": "KUsRj7jI0xrH",
        "outputId": "c4d7dec1-a23a-43c7-cdc6-a83da0c4d9eb"
      },
      "source": [
        "import numpy as np\n",
        "\n",
        "stop_words = nltk.corpus.stopwords.words('english')\n",
        "\n",
        "def normalize_document(doc):\n",
        "    #remove special characters\\whitespaces\n",
        "    doc = re.sub(r'[^a-zA-Z\\s]', '', doc, re.I|re.A)\n",
        "    #make into lowercase\n",
        "    doc = doc.lower()\n",
        "    doc = doc.strip()\n",
        "    # tokenize document\n",
        "    tokens = nltk.word_tokenize(doc)\n",
        "    # filter stopwords out of document\n",
        "    filtered_tokens = [token for token in tokens if token not in stop_words]\n",
        "    # re-create document from filtered tokens\n",
        "    doc = ' '.join(filtered_tokens)\n",
        "    return doc\n",
        "#making into numpy array for further processing\n",
        "normalize_corpus = np.vectorize(normalize_document)\n",
        "\n",
        "norm_sentences = normalize_corpus(sentences)\n",
        "norm_sentences[:4]"
      ],
      "execution_count": 7,
      "outputs": [
        {
          "output_type": "execute_result",
          "data": {
            "text/plain": [
              "array(['visible improvement delhis air quality recorded sunday although poor category citys environment minister gopal rai said government submit lockdown proposal supreme court monday reduce pollution',\n",
              "       'national capital recorded hour average air quality index aqi sunday previous day emissions farm fires haryana punjab dropped significantly',\n",
              "       'aqi friday worst season far',\n",
              "       'air quality index neighbouring ghaziabad gurgaon noida faridabad greater noida recorded respectively'],\n",
              "      dtype='<U359')"
            ]
          },
          "metadata": {},
          "execution_count": 7
        }
      ]
    },
    {
      "cell_type": "markdown",
      "source": [
        "**Vectorizing**"
      ],
      "metadata": {
        "id": "0Y6psk9wOG_-"
      }
    },
    {
      "cell_type": "code",
      "metadata": {
        "colab": {
          "base_uri": "https://localhost:8080/",
          "height": 745
        },
        "id": "vkMR7GNqOAlq",
        "outputId": "ccc6486e-62e7-448c-d20c-7e5a77952451"
      },
      "source": [
        "from sklearn.feature_extraction.text import TfidfVectorizer\n",
        "import pandas as pd\n",
        "\n",
        "tv = TfidfVectorizer(min_df=0., max_df=1., use_idf=True)\n",
        "dt_matrix = tv.fit_transform(norm_sentences)\n",
        "dt_matrix = dt_matrix.toarray()\n",
        "\n",
        "vocab = tv.get_feature_names()\n",
        "td_matrix = dt_matrix.T\n",
        "print(td_matrix.shape)\n",
        "pd.DataFrame(np.round(td_matrix, 2), index=vocab)\n"
      ],
      "execution_count": 8,
      "outputs": [
        {
          "output_type": "stream",
          "name": "stdout",
          "text": [
            "(297, 25)\n"
          ]
        },
        {
          "output_type": "stream",
          "name": "stderr",
          "text": [
            "/usr/local/lib/python3.7/dist-packages/sklearn/utils/deprecation.py:87: FutureWarning: Function get_feature_names is deprecated; get_feature_names is deprecated in 1.0 and will be removed in 1.2. Please use get_feature_names_out instead.\n",
            "  warnings.warn(msg, category=FutureWarning)\n"
          ]
        },
        {
          "output_type": "execute_result",
          "data": {
            "text/html": [
              "\n",
              "  <div id=\"df-d470b6d8-0df3-49ea-95ec-7d7977c013d2\">\n",
              "    <div class=\"colab-df-container\">\n",
              "      <div>\n",
              "<style scoped>\n",
              "    .dataframe tbody tr th:only-of-type {\n",
              "        vertical-align: middle;\n",
              "    }\n",
              "\n",
              "    .dataframe tbody tr th {\n",
              "        vertical-align: top;\n",
              "    }\n",
              "\n",
              "    .dataframe thead th {\n",
              "        text-align: right;\n",
              "    }\n",
              "</style>\n",
              "<table border=\"1\" class=\"dataframe\">\n",
              "  <thead>\n",
              "    <tr style=\"text-align: right;\">\n",
              "      <th></th>\n",
              "      <th>0</th>\n",
              "      <th>1</th>\n",
              "      <th>2</th>\n",
              "      <th>3</th>\n",
              "      <th>4</th>\n",
              "      <th>5</th>\n",
              "      <th>6</th>\n",
              "      <th>7</th>\n",
              "      <th>8</th>\n",
              "      <th>9</th>\n",
              "      <th>10</th>\n",
              "      <th>11</th>\n",
              "      <th>12</th>\n",
              "      <th>13</th>\n",
              "      <th>14</th>\n",
              "      <th>15</th>\n",
              "      <th>16</th>\n",
              "      <th>17</th>\n",
              "      <th>18</th>\n",
              "      <th>19</th>\n",
              "      <th>20</th>\n",
              "      <th>21</th>\n",
              "      <th>22</th>\n",
              "      <th>23</th>\n",
              "      <th>24</th>\n",
              "    </tr>\n",
              "  </thead>\n",
              "  <tbody>\n",
              "    <tr>\n",
              "      <th>able</th>\n",
              "      <td>0.0</td>\n",
              "      <td>0.0</td>\n",
              "      <td>0.0</td>\n",
              "      <td>0.0</td>\n",
              "      <td>0.00</td>\n",
              "      <td>0.0</td>\n",
              "      <td>0.0</td>\n",
              "      <td>0.0</td>\n",
              "      <td>0.0</td>\n",
              "      <td>0.00</td>\n",
              "      <td>0.0</td>\n",
              "      <td>0.00</td>\n",
              "      <td>0.00</td>\n",
              "      <td>0.00</td>\n",
              "      <td>0.0</td>\n",
              "      <td>0.25</td>\n",
              "      <td>0.0</td>\n",
              "      <td>0.00</td>\n",
              "      <td>0.00</td>\n",
              "      <td>0.0</td>\n",
              "      <td>0.0</td>\n",
              "      <td>0.0</td>\n",
              "      <td>0.0</td>\n",
              "      <td>0.0</td>\n",
              "      <td>0.0</td>\n",
              "    </tr>\n",
              "    <tr>\n",
              "      <th>admitted</th>\n",
              "      <td>0.0</td>\n",
              "      <td>0.0</td>\n",
              "      <td>0.0</td>\n",
              "      <td>0.0</td>\n",
              "      <td>0.00</td>\n",
              "      <td>0.0</td>\n",
              "      <td>0.0</td>\n",
              "      <td>0.0</td>\n",
              "      <td>0.0</td>\n",
              "      <td>0.00</td>\n",
              "      <td>0.0</td>\n",
              "      <td>0.00</td>\n",
              "      <td>0.00</td>\n",
              "      <td>0.00</td>\n",
              "      <td>0.0</td>\n",
              "      <td>0.00</td>\n",
              "      <td>0.0</td>\n",
              "      <td>0.00</td>\n",
              "      <td>0.29</td>\n",
              "      <td>0.0</td>\n",
              "      <td>0.0</td>\n",
              "      <td>0.0</td>\n",
              "      <td>0.0</td>\n",
              "      <td>0.0</td>\n",
              "      <td>0.0</td>\n",
              "    </tr>\n",
              "    <tr>\n",
              "      <th>adopted</th>\n",
              "      <td>0.0</td>\n",
              "      <td>0.0</td>\n",
              "      <td>0.0</td>\n",
              "      <td>0.0</td>\n",
              "      <td>0.00</td>\n",
              "      <td>0.0</td>\n",
              "      <td>0.0</td>\n",
              "      <td>0.0</td>\n",
              "      <td>0.0</td>\n",
              "      <td>0.26</td>\n",
              "      <td>0.0</td>\n",
              "      <td>0.00</td>\n",
              "      <td>0.00</td>\n",
              "      <td>0.00</td>\n",
              "      <td>0.0</td>\n",
              "      <td>0.00</td>\n",
              "      <td>0.0</td>\n",
              "      <td>0.00</td>\n",
              "      <td>0.00</td>\n",
              "      <td>0.0</td>\n",
              "      <td>0.0</td>\n",
              "      <td>0.0</td>\n",
              "      <td>0.0</td>\n",
              "      <td>0.0</td>\n",
              "      <td>0.0</td>\n",
              "    </tr>\n",
              "    <tr>\n",
              "      <th>aid</th>\n",
              "      <td>0.0</td>\n",
              "      <td>0.0</td>\n",
              "      <td>0.0</td>\n",
              "      <td>0.0</td>\n",
              "      <td>0.00</td>\n",
              "      <td>0.0</td>\n",
              "      <td>0.0</td>\n",
              "      <td>0.0</td>\n",
              "      <td>0.0</td>\n",
              "      <td>0.00</td>\n",
              "      <td>0.0</td>\n",
              "      <td>0.00</td>\n",
              "      <td>0.00</td>\n",
              "      <td>0.00</td>\n",
              "      <td>0.0</td>\n",
              "      <td>0.00</td>\n",
              "      <td>0.0</td>\n",
              "      <td>0.24</td>\n",
              "      <td>0.00</td>\n",
              "      <td>0.0</td>\n",
              "      <td>0.0</td>\n",
              "      <td>0.0</td>\n",
              "      <td>0.0</td>\n",
              "      <td>0.0</td>\n",
              "      <td>0.0</td>\n",
              "    </tr>\n",
              "    <tr>\n",
              "      <th>ailments</th>\n",
              "      <td>0.0</td>\n",
              "      <td>0.0</td>\n",
              "      <td>0.0</td>\n",
              "      <td>0.0</td>\n",
              "      <td>0.00</td>\n",
              "      <td>0.0</td>\n",
              "      <td>0.0</td>\n",
              "      <td>0.0</td>\n",
              "      <td>0.0</td>\n",
              "      <td>0.00</td>\n",
              "      <td>0.0</td>\n",
              "      <td>0.00</td>\n",
              "      <td>0.00</td>\n",
              "      <td>0.00</td>\n",
              "      <td>0.0</td>\n",
              "      <td>0.00</td>\n",
              "      <td>0.0</td>\n",
              "      <td>0.24</td>\n",
              "      <td>0.00</td>\n",
              "      <td>0.0</td>\n",
              "      <td>0.0</td>\n",
              "      <td>0.0</td>\n",
              "      <td>0.0</td>\n",
              "      <td>0.0</td>\n",
              "      <td>0.0</td>\n",
              "    </tr>\n",
              "    <tr>\n",
              "      <th>...</th>\n",
              "      <td>...</td>\n",
              "      <td>...</td>\n",
              "      <td>...</td>\n",
              "      <td>...</td>\n",
              "      <td>...</td>\n",
              "      <td>...</td>\n",
              "      <td>...</td>\n",
              "      <td>...</td>\n",
              "      <td>...</td>\n",
              "      <td>...</td>\n",
              "      <td>...</td>\n",
              "      <td>...</td>\n",
              "      <td>...</td>\n",
              "      <td>...</td>\n",
              "      <td>...</td>\n",
              "      <td>...</td>\n",
              "      <td>...</td>\n",
              "      <td>...</td>\n",
              "      <td>...</td>\n",
              "      <td>...</td>\n",
              "      <td>...</td>\n",
              "      <td>...</td>\n",
              "      <td>...</td>\n",
              "      <td>...</td>\n",
              "      <td>...</td>\n",
              "    </tr>\n",
              "    <tr>\n",
              "      <th>xis</th>\n",
              "      <td>0.0</td>\n",
              "      <td>0.0</td>\n",
              "      <td>0.0</td>\n",
              "      <td>0.0</td>\n",
              "      <td>0.00</td>\n",
              "      <td>0.0</td>\n",
              "      <td>0.0</td>\n",
              "      <td>0.0</td>\n",
              "      <td>0.0</td>\n",
              "      <td>0.00</td>\n",
              "      <td>0.0</td>\n",
              "      <td>0.32</td>\n",
              "      <td>0.00</td>\n",
              "      <td>0.00</td>\n",
              "      <td>0.0</td>\n",
              "      <td>0.00</td>\n",
              "      <td>0.0</td>\n",
              "      <td>0.00</td>\n",
              "      <td>0.00</td>\n",
              "      <td>0.0</td>\n",
              "      <td>0.0</td>\n",
              "      <td>0.0</td>\n",
              "      <td>0.0</td>\n",
              "      <td>0.0</td>\n",
              "      <td>0.0</td>\n",
              "    </tr>\n",
              "    <tr>\n",
              "      <th>year</th>\n",
              "      <td>0.0</td>\n",
              "      <td>0.0</td>\n",
              "      <td>0.0</td>\n",
              "      <td>0.0</td>\n",
              "      <td>0.00</td>\n",
              "      <td>0.0</td>\n",
              "      <td>0.0</td>\n",
              "      <td>0.0</td>\n",
              "      <td>0.0</td>\n",
              "      <td>0.00</td>\n",
              "      <td>0.0</td>\n",
              "      <td>0.00</td>\n",
              "      <td>0.00</td>\n",
              "      <td>0.28</td>\n",
              "      <td>0.0</td>\n",
              "      <td>0.00</td>\n",
              "      <td>0.0</td>\n",
              "      <td>0.00</td>\n",
              "      <td>0.00</td>\n",
              "      <td>0.0</td>\n",
              "      <td>0.0</td>\n",
              "      <td>0.0</td>\n",
              "      <td>0.0</td>\n",
              "      <td>0.0</td>\n",
              "      <td>0.0</td>\n",
              "    </tr>\n",
              "    <tr>\n",
              "      <th>years</th>\n",
              "      <td>0.0</td>\n",
              "      <td>0.0</td>\n",
              "      <td>0.0</td>\n",
              "      <td>0.0</td>\n",
              "      <td>0.00</td>\n",
              "      <td>0.0</td>\n",
              "      <td>0.0</td>\n",
              "      <td>0.0</td>\n",
              "      <td>0.0</td>\n",
              "      <td>0.00</td>\n",
              "      <td>0.0</td>\n",
              "      <td>0.32</td>\n",
              "      <td>0.00</td>\n",
              "      <td>0.00</td>\n",
              "      <td>0.0</td>\n",
              "      <td>0.00</td>\n",
              "      <td>0.0</td>\n",
              "      <td>0.00</td>\n",
              "      <td>0.00</td>\n",
              "      <td>0.0</td>\n",
              "      <td>0.0</td>\n",
              "      <td>0.0</td>\n",
              "      <td>0.0</td>\n",
              "      <td>0.0</td>\n",
              "      <td>0.0</td>\n",
              "    </tr>\n",
              "    <tr>\n",
              "      <th>zedong</th>\n",
              "      <td>0.0</td>\n",
              "      <td>0.0</td>\n",
              "      <td>0.0</td>\n",
              "      <td>0.0</td>\n",
              "      <td>0.00</td>\n",
              "      <td>0.0</td>\n",
              "      <td>0.0</td>\n",
              "      <td>0.0</td>\n",
              "      <td>0.0</td>\n",
              "      <td>0.00</td>\n",
              "      <td>0.0</td>\n",
              "      <td>0.00</td>\n",
              "      <td>0.23</td>\n",
              "      <td>0.00</td>\n",
              "      <td>0.0</td>\n",
              "      <td>0.00</td>\n",
              "      <td>0.0</td>\n",
              "      <td>0.00</td>\n",
              "      <td>0.00</td>\n",
              "      <td>0.0</td>\n",
              "      <td>0.0</td>\n",
              "      <td>0.0</td>\n",
              "      <td>0.0</td>\n",
              "      <td>0.0</td>\n",
              "      <td>0.0</td>\n",
              "    </tr>\n",
              "    <tr>\n",
              "      <th>zero</th>\n",
              "      <td>0.0</td>\n",
              "      <td>0.0</td>\n",
              "      <td>0.0</td>\n",
              "      <td>0.0</td>\n",
              "      <td>0.32</td>\n",
              "      <td>0.0</td>\n",
              "      <td>0.0</td>\n",
              "      <td>0.0</td>\n",
              "      <td>0.0</td>\n",
              "      <td>0.00</td>\n",
              "      <td>0.0</td>\n",
              "      <td>0.00</td>\n",
              "      <td>0.00</td>\n",
              "      <td>0.00</td>\n",
              "      <td>0.0</td>\n",
              "      <td>0.00</td>\n",
              "      <td>0.0</td>\n",
              "      <td>0.00</td>\n",
              "      <td>0.00</td>\n",
              "      <td>0.0</td>\n",
              "      <td>0.0</td>\n",
              "      <td>0.0</td>\n",
              "      <td>0.0</td>\n",
              "      <td>0.0</td>\n",
              "      <td>0.0</td>\n",
              "    </tr>\n",
              "  </tbody>\n",
              "</table>\n",
              "<p>297 rows × 25 columns</p>\n",
              "</div>\n",
              "      <button class=\"colab-df-convert\" onclick=\"convertToInteractive('df-d470b6d8-0df3-49ea-95ec-7d7977c013d2')\"\n",
              "              title=\"Convert this dataframe to an interactive table.\"\n",
              "              style=\"display:none;\">\n",
              "        \n",
              "  <svg xmlns=\"http://www.w3.org/2000/svg\" height=\"24px\"viewBox=\"0 0 24 24\"\n",
              "       width=\"24px\">\n",
              "    <path d=\"M0 0h24v24H0V0z\" fill=\"none\"/>\n",
              "    <path d=\"M18.56 5.44l.94 2.06.94-2.06 2.06-.94-2.06-.94-.94-2.06-.94 2.06-2.06.94zm-11 1L8.5 8.5l.94-2.06 2.06-.94-2.06-.94L8.5 2.5l-.94 2.06-2.06.94zm10 10l.94 2.06.94-2.06 2.06-.94-2.06-.94-.94-2.06-.94 2.06-2.06.94z\"/><path d=\"M17.41 7.96l-1.37-1.37c-.4-.4-.92-.59-1.43-.59-.52 0-1.04.2-1.43.59L10.3 9.45l-7.72 7.72c-.78.78-.78 2.05 0 2.83L4 21.41c.39.39.9.59 1.41.59.51 0 1.02-.2 1.41-.59l7.78-7.78 2.81-2.81c.8-.78.8-2.07 0-2.86zM5.41 20L4 18.59l7.72-7.72 1.47 1.35L5.41 20z\"/>\n",
              "  </svg>\n",
              "      </button>\n",
              "      \n",
              "  <style>\n",
              "    .colab-df-container {\n",
              "      display:flex;\n",
              "      flex-wrap:wrap;\n",
              "      gap: 12px;\n",
              "    }\n",
              "\n",
              "    .colab-df-convert {\n",
              "      background-color: #E8F0FE;\n",
              "      border: none;\n",
              "      border-radius: 50%;\n",
              "      cursor: pointer;\n",
              "      display: none;\n",
              "      fill: #1967D2;\n",
              "      height: 32px;\n",
              "      padding: 0 0 0 0;\n",
              "      width: 32px;\n",
              "    }\n",
              "\n",
              "    .colab-df-convert:hover {\n",
              "      background-color: #E2EBFA;\n",
              "      box-shadow: 0px 1px 2px rgba(60, 64, 67, 0.3), 0px 1px 3px 1px rgba(60, 64, 67, 0.15);\n",
              "      fill: #174EA6;\n",
              "    }\n",
              "\n",
              "    [theme=dark] .colab-df-convert {\n",
              "      background-color: #3B4455;\n",
              "      fill: #D2E3FC;\n",
              "    }\n",
              "\n",
              "    [theme=dark] .colab-df-convert:hover {\n",
              "      background-color: #434B5C;\n",
              "      box-shadow: 0px 1px 3px 1px rgba(0, 0, 0, 0.15);\n",
              "      filter: drop-shadow(0px 1px 2px rgba(0, 0, 0, 0.3));\n",
              "      fill: #FFFFFF;\n",
              "    }\n",
              "  </style>\n",
              "\n",
              "      <script>\n",
              "        const buttonEl =\n",
              "          document.querySelector('#df-d470b6d8-0df3-49ea-95ec-7d7977c013d2 button.colab-df-convert');\n",
              "        buttonEl.style.display =\n",
              "          google.colab.kernel.accessAllowed ? 'block' : 'none';\n",
              "\n",
              "        async function convertToInteractive(key) {\n",
              "          const element = document.querySelector('#df-d470b6d8-0df3-49ea-95ec-7d7977c013d2');\n",
              "          const dataTable =\n",
              "            await google.colab.kernel.invokeFunction('convertToInteractive',\n",
              "                                                     [key], {});\n",
              "          if (!dataTable) return;\n",
              "\n",
              "          const docLinkHtml = 'Like what you see? Visit the ' +\n",
              "            '<a target=\"_blank\" href=https://colab.research.google.com/notebooks/data_table.ipynb>data table notebook</a>'\n",
              "            + ' to learn more about interactive tables.';\n",
              "          element.innerHTML = '';\n",
              "          dataTable['output_type'] = 'display_data';\n",
              "          await google.colab.output.renderOutput(dataTable, element);\n",
              "          const docLink = document.createElement('div');\n",
              "          docLink.innerHTML = docLinkHtml;\n",
              "          element.appendChild(docLink);\n",
              "        }\n",
              "      </script>\n",
              "    </div>\n",
              "  </div>\n",
              "  "
            ],
            "text/plain": [
              "           0    1    2    3     4    5   ...   19   20   21   22   23   24\n",
              "able      0.0  0.0  0.0  0.0  0.00  0.0  ...  0.0  0.0  0.0  0.0  0.0  0.0\n",
              "admitted  0.0  0.0  0.0  0.0  0.00  0.0  ...  0.0  0.0  0.0  0.0  0.0  0.0\n",
              "adopted   0.0  0.0  0.0  0.0  0.00  0.0  ...  0.0  0.0  0.0  0.0  0.0  0.0\n",
              "aid       0.0  0.0  0.0  0.0  0.00  0.0  ...  0.0  0.0  0.0  0.0  0.0  0.0\n",
              "ailments  0.0  0.0  0.0  0.0  0.00  0.0  ...  0.0  0.0  0.0  0.0  0.0  0.0\n",
              "...       ...  ...  ...  ...   ...  ...  ...  ...  ...  ...  ...  ...  ...\n",
              "xis       0.0  0.0  0.0  0.0  0.00  0.0  ...  0.0  0.0  0.0  0.0  0.0  0.0\n",
              "year      0.0  0.0  0.0  0.0  0.00  0.0  ...  0.0  0.0  0.0  0.0  0.0  0.0\n",
              "years     0.0  0.0  0.0  0.0  0.00  0.0  ...  0.0  0.0  0.0  0.0  0.0  0.0\n",
              "zedong    0.0  0.0  0.0  0.0  0.00  0.0  ...  0.0  0.0  0.0  0.0  0.0  0.0\n",
              "zero      0.0  0.0  0.0  0.0  0.32  0.0  ...  0.0  0.0  0.0  0.0  0.0  0.0\n",
              "\n",
              "[297 rows x 25 columns]"
            ]
          },
          "metadata": {},
          "execution_count": 8
        },
        {
          "output_type": "stream",
          "name": "stdout",
          "text": [
            "Warning: Total number of columns (25) exceeds max_columns (20) limiting to first (20) columns.\n"
          ]
        }
      ]
    },
    {
      "cell_type": "markdown",
      "source": [
        "**BUILDING SIMILARITY MATRIX**"
      ],
      "metadata": {
        "id": "BR4mi8zyONep"
      }
    },
    {
      "cell_type": "code",
      "metadata": {
        "colab": {
          "base_uri": "https://localhost:8080/"
        },
        "id": "DcM22OMnrUea",
        "outputId": "05d749b0-7f00-4d25-97ac-badda30b9a71"
      },
      "source": [
        "similarity_matrix = np.matmul(dt_matrix, dt_matrix.T)\n",
        "print(similarity_matrix.shape)\n",
        "np.round(similarity_matrix, 3)"
      ],
      "execution_count": 9,
      "outputs": [
        {
          "output_type": "stream",
          "name": "stdout",
          "text": [
            "(25, 25)\n"
          ]
        },
        {
          "output_type": "execute_result",
          "data": {
            "text/plain": [
              "array([[1.   , 0.152, 0.   , 0.125, 0.113, 0.029, 0.557, 0.183, 0.043,\n",
              "        0.   , 0.035, 0.   , 0.   , 0.   , 0.   , 0.   , 0.   , 0.   ,\n",
              "        0.   , 0.   , 0.   , 0.   , 0.   , 0.   , 0.   ],\n",
              "       [0.152, 1.   , 0.074, 0.192, 0.051, 0.   , 0.   , 0.105, 0.056,\n",
              "        0.   , 0.   , 0.   , 0.   , 0.   , 0.   , 0.   , 0.   , 0.   ,\n",
              "        0.   , 0.   , 0.   , 0.   , 0.   , 0.   , 0.   ],\n",
              "       [0.   , 0.074, 1.   , 0.   , 0.096, 0.   , 0.   , 0.   , 0.   ,\n",
              "        0.   , 0.   , 0.   , 0.   , 0.   , 0.   , 0.   , 0.   , 0.   ,\n",
              "        0.   , 0.   , 0.   , 0.   , 0.   , 0.   , 0.   ],\n",
              "       [0.125, 0.192, 0.   , 1.   , 0.   , 0.   , 0.   , 0.   , 0.   ,\n",
              "        0.   , 0.   , 0.   , 0.   , 0.   , 0.052, 0.   , 0.   , 0.   ,\n",
              "        0.   , 0.   , 0.047, 0.   , 0.   , 0.   , 0.   ],\n",
              "       [0.113, 0.051, 0.096, 0.   , 1.   , 0.   , 0.   , 0.   , 0.   ,\n",
              "        0.   , 0.   , 0.   , 0.   , 0.   , 0.   , 0.   , 0.   , 0.   ,\n",
              "        0.   , 0.   , 0.   , 0.   , 0.   , 0.   , 0.   ],\n",
              "       [0.029, 0.   , 0.   , 0.   , 0.   , 1.   , 0.037, 0.039, 0.021,\n",
              "        0.   , 0.   , 0.   , 0.   , 0.   , 0.   , 0.   , 0.   , 0.   ,\n",
              "        0.   , 0.051, 0.033, 0.   , 0.   , 0.   , 0.   ],\n",
              "       [0.557, 0.   , 0.   , 0.   , 0.   , 0.037, 1.   , 0.233, 0.09 ,\n",
              "        0.   , 0.   , 0.   , 0.   , 0.   , 0.   , 0.   , 0.   , 0.   ,\n",
              "        0.   , 0.   , 0.   , 0.   , 0.   , 0.   , 0.   ],\n",
              "       [0.183, 0.105, 0.   , 0.   , 0.   , 0.039, 0.233, 1.   , 0.068,\n",
              "        0.   , 0.   , 0.   , 0.   , 0.   , 0.   , 0.   , 0.   , 0.   ,\n",
              "        0.   , 0.065, 0.041, 0.   , 0.   , 0.   , 0.   ],\n",
              "       [0.043, 0.056, 0.   , 0.   , 0.   , 0.021, 0.09 , 0.068, 1.   ,\n",
              "        0.053, 0.088, 0.   , 0.017, 0.021, 0.   , 0.   , 0.   , 0.   ,\n",
              "        0.   , 0.   , 0.032, 0.   , 0.   , 0.   , 0.   ],\n",
              "       [0.   , 0.   , 0.   , 0.   , 0.   , 0.   , 0.   , 0.   , 0.053,\n",
              "        1.   , 0.174, 0.054, 0.077, 0.036, 0.   , 0.   , 0.   , 0.   ,\n",
              "        0.   , 0.   , 0.   , 0.   , 0.   , 0.   , 0.   ],\n",
              "       [0.035, 0.   , 0.   , 0.   , 0.   , 0.   , 0.   , 0.   , 0.088,\n",
              "        0.174, 1.   , 0.178, 0.022, 0.026, 0.   , 0.   , 0.   , 0.   ,\n",
              "        0.   , 0.   , 0.   , 0.   , 0.   , 0.   , 0.   ],\n",
              "       [0.   , 0.   , 0.   , 0.   , 0.   , 0.   , 0.   , 0.   , 0.   ,\n",
              "        0.054, 0.178, 1.   , 0.   , 0.14 , 0.   , 0.   , 0.   , 0.   ,\n",
              "        0.   , 0.   , 0.   , 0.   , 0.   , 0.   , 0.   ],\n",
              "       [0.   , 0.   , 0.   , 0.   , 0.   , 0.   , 0.   , 0.   , 0.017,\n",
              "        0.077, 0.022, 0.   , 1.   , 0.031, 0.   , 0.044, 0.   , 0.   ,\n",
              "        0.   , 0.   , 0.   , 0.   , 0.   , 0.   , 0.   ],\n",
              "       [0.   , 0.   , 0.   , 0.   , 0.   , 0.   , 0.   , 0.   , 0.021,\n",
              "        0.036, 0.026, 0.14 , 0.031, 1.   , 0.125, 0.   , 0.   , 0.   ,\n",
              "        0.   , 0.   , 0.   , 0.   , 0.   , 0.   , 0.   ],\n",
              "       [0.   , 0.   , 0.   , 0.052, 0.   , 0.   , 0.   , 0.   , 0.   ,\n",
              "        0.   , 0.   , 0.   , 0.   , 0.125, 1.   , 0.034, 0.027, 0.017,\n",
              "        0.02 , 0.028, 0.064, 0.036, 0.017, 0.078, 0.038],\n",
              "       [0.   , 0.   , 0.   , 0.   , 0.   , 0.   , 0.   , 0.   , 0.   ,\n",
              "        0.   , 0.   , 0.   , 0.044, 0.   , 0.034, 1.   , 0.109, 0.03 ,\n",
              "        0.035, 0.048, 0.079, 0.103, 0.03 , 0.243, 0.169],\n",
              "       [0.   , 0.   , 0.   , 0.   , 0.   , 0.   , 0.   , 0.   , 0.   ,\n",
              "        0.   , 0.   , 0.   , 0.   , 0.   , 0.027, 0.109, 1.   , 0.023,\n",
              "        0.225, 0.038, 0.132, 0.113, 0.193, 0.107, 0.052],\n",
              "       [0.   , 0.   , 0.   , 0.   , 0.   , 0.   , 0.   , 0.   , 0.   ,\n",
              "        0.   , 0.   , 0.   , 0.   , 0.   , 0.017, 0.03 , 0.023, 1.   ,\n",
              "        0.018, 0.024, 0.015, 0.031, 0.054, 0.175, 0.075],\n",
              "       [0.   , 0.   , 0.   , 0.   , 0.   , 0.   , 0.   , 0.   , 0.   ,\n",
              "        0.   , 0.   , 0.   , 0.   , 0.   , 0.02 , 0.035, 0.225, 0.018,\n",
              "        1.   , 0.028, 0.214, 0.094, 0.257, 0.08 , 0.038],\n",
              "       [0.   , 0.   , 0.   , 0.   , 0.   , 0.051, 0.   , 0.065, 0.   ,\n",
              "        0.   , 0.   , 0.   , 0.   , 0.   , 0.028, 0.048, 0.038, 0.024,\n",
              "        0.028, 1.   , 0.079, 0.05 , 0.024, 0.251, 0.121],\n",
              "       [0.   , 0.   , 0.   , 0.047, 0.   , 0.033, 0.   , 0.041, 0.032,\n",
              "        0.   , 0.   , 0.   , 0.   , 0.   , 0.064, 0.079, 0.132, 0.015,\n",
              "        0.214, 0.079, 1.   , 0.032, 0.085, 0.07 , 0.034],\n",
              "       [0.   , 0.   , 0.   , 0.   , 0.   , 0.   , 0.   , 0.   , 0.   ,\n",
              "        0.   , 0.   , 0.   , 0.   , 0.   , 0.036, 0.103, 0.113, 0.031,\n",
              "        0.094, 0.05 , 0.032, 1.   , 0.031, 0.141, 0.068],\n",
              "       [0.   , 0.   , 0.   , 0.   , 0.   , 0.   , 0.   , 0.   , 0.   ,\n",
              "        0.   , 0.   , 0.   , 0.   , 0.   , 0.017, 0.03 , 0.193, 0.054,\n",
              "        0.257, 0.024, 0.085, 0.031, 1.   , 0.069, 0.076],\n",
              "       [0.   , 0.   , 0.   , 0.   , 0.   , 0.   , 0.   , 0.   , 0.   ,\n",
              "        0.   , 0.   , 0.   , 0.   , 0.   , 0.078, 0.243, 0.107, 0.175,\n",
              "        0.08 , 0.251, 0.07 , 0.141, 0.069, 1.   , 0.246],\n",
              "       [0.   , 0.   , 0.   , 0.   , 0.   , 0.   , 0.   , 0.   , 0.   ,\n",
              "        0.   , 0.   , 0.   , 0.   , 0.   , 0.038, 0.169, 0.052, 0.075,\n",
              "        0.038, 0.121, 0.034, 0.068, 0.076, 0.246, 1.   ]])"
            ]
          },
          "metadata": {},
          "execution_count": 9
        }
      ]
    },
    {
      "cell_type": "markdown",
      "source": [
        "**SEMANTIC** **GRAPH** **CONSTRUCTION**"
      ],
      "metadata": {
        "id": "WHR7KqZQOVB7"
      }
    },
    {
      "cell_type": "code",
      "source": [
        "import networkx\n",
        "\n",
        "similarity_graph = networkx.from_numpy_array(similarity_matrix)\n",
        "similarity_graph"
      ],
      "metadata": {
        "colab": {
          "base_uri": "https://localhost:8080/"
        },
        "id": "1NgIXCRSNP-C",
        "outputId": "26836317-bfa5-4f12-974a-894dae249d0e"
      },
      "execution_count": 10,
      "outputs": [
        {
          "output_type": "execute_result",
          "data": {
            "text/plain": [
              "<networkx.classes.graph.Graph at 0x7f274dae81d0>"
            ]
          },
          "metadata": {},
          "execution_count": 10
        }
      ]
    },
    {
      "cell_type": "code",
      "source": [
        "import matplotlib.pyplot as plt\n",
        "%matplotlib inline\n",
        "\n",
        "plt.figure(figsize=(12,12))\n",
        "networkx.draw_networkx(similarity_graph, node_color='lime')"
      ],
      "metadata": {
        "id": "aAxNiwWyNg0t",
        "colab": {
          "base_uri": "https://localhost:8080/",
          "height": 683
        },
        "outputId": "28c96112-3a5c-4e48-eb4b-32ca2b8cda69"
      },
      "execution_count": 11,
      "outputs": [
        {
          "output_type": "display_data",
          "data": {
            "image/png": "[encoded data removed]",
            "text/plain": [
              "<Figure size 864x864 with 1 Axes>"
            ]
          },
          "metadata": {}
        }
      ]
    },
    {
      "cell_type": "markdown",
      "source": [
        "**GETTING** **SENTENCE** **IMPORTANT** **SCORES**"
      ],
      "metadata": {
        "id": "ruWQWGstOcbC"
      }
    },
    {
      "cell_type": "code",
      "source": [
        "scores = networkx.pagerank(similarity_graph)\n",
        "ranked_sentences = sorted(((score, index) for index, score \n",
        "                                            in scores.items()), \n",
        "                          reverse=True)\n",
        "ranked_sentences[:20]"
      ],
      "metadata": {
        "id": "wG-XTndZNkcx",
        "colab": {
          "base_uri": "https://localhost:8080/"
        },
        "outputId": "d2280e14-89e1-468a-b7ff-4bdce9d9b4d4"
      },
      "execution_count": 12,
      "outputs": [
        {
          "output_type": "execute_result",
          "data": {
            "text/plain": [
              "[(0.05094578251125085, 23),\n",
              " (0.050900845134889634, 0),\n",
              " (0.043580471810056434, 6),\n",
              " (0.04269699685279467, 16),\n",
              " (0.04260678150553241, 20),\n",
              " (0.042527541930082534, 18),\n",
              " (0.04162906733430659, 15),\n",
              " (0.04114402722540945, 24),\n",
              " (0.04112474692403288, 10),\n",
              " (0.04103534753917604, 1),\n",
              " (0.040558319467001336, 7),\n",
              " (0.03984092587850705, 19),\n",
              " (0.03964281911991289, 22),\n",
              " (0.039084043438304156, 9),\n",
              " (0.038540659135477384, 11),\n",
              " (0.03829541229344317, 8),\n",
              " (0.03812770097996277, 13),\n",
              " (0.03759480882574738, 21),\n",
              " (0.03728044524253565, 14),\n",
              " (0.03631889674420968, 2)]"
            ]
          },
          "metadata": {},
          "execution_count": 12
        }
      ]
    },
    {
      "cell_type": "markdown",
      "source": [
        "**Summary** **Generation**"
      ],
      "metadata": {
        "id": "-TBwc8SRTbSk"
      }
    },
    {
      "cell_type": "code",
      "source": [
        "num_sentences=7;\n",
        "top_sentence_indices = [ranked_sentences[index][1] \n",
        "                        for index in range(num_sentences)]\n",
        "top_sentence_indices.sort()"
      ],
      "metadata": {
        "id": "0OFf7KfMNqov"
      },
      "execution_count": 13,
      "outputs": []
    },
    {
      "cell_type": "code",
      "source": [
        "print('\\n'.join(np.array(sentences)[top_sentence_indices]))"
      ],
      "metadata": {
        "id": "KwnGht9SNtcI",
        "colab": {
          "base_uri": "https://localhost:8080/"
        },
        "outputId": "c937e930-2c15-4f6f-eefe-df101f1f5e65"
      },
      "execution_count": 14,
      "outputs": [
        {
          "output_type": "stream",
          "name": "stdout",
          "text": [
            "A visible improvement in Delhi's air quality was recorded on Sunday although it was in the ''very poor'' category while the city's Environment Minister Gopal Rai said his government will submit a lockdown proposal to the Supreme Court on Monday to reduce pollution further.\n",
            "Delhi Environment Minister Gopal Rai said the city government will on Monday submit to the Supreme Court a proposal on clamping a lockdown and its modalities.\n",
            "Health experts have raised concerns over the growing cases of vitamin D deficiency in general population as people are staying at home and are not able to obtain the 'sunshine vitamin' from natural sunlight.\n",
            "In fact, a new study discovered over 80% COVID-19 patients suffering from vitamin D deficiency.\n",
            "The study that was published in 'The Journal of Clinical Endocrinology & Metabolism', found 80 percent of 216 COVID-19 patients admitted in a hospital in Spain to be vitamin D-deficient.\n",
            "\"Vitamin D-deficient COVID-19 patients had a greater prevalence of hypertension and cardiovascular diseases, raised serum ferritin and troponin levels, as well as a longer length of hospital stay.\n",
            "Vitamin D is also known as 'sunshine vitamin'.\n"
          ]
        }
      ]
    }
  ]
}